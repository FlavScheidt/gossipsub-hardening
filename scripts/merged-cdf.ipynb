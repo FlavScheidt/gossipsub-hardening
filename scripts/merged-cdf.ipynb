{
 "cells": [
  {
   "cell_type": "code",
   "execution_count": null,
   "metadata": {},
   "outputs": [],
   "source": [
    "import ipywidgets as widgets\n",
    "from ipyfilechooser import FileChooser\n",
    "import os\n",
    "import pandas as pd\n",
    "import matplotlib.pyplot as plt\n",
    "import notebook_helper\n",
    "import time\n",
    "\n",
    "%autosave 0\n",
    "\n",
    "# controls the default starting dir for the file choosers\n",
    "BASE_DIR='./output'"
   ]
  },
  {
   "cell_type": "code",
   "execution_count": null,
   "metadata": {},
   "outputs": [],
   "source": [
    "def load_cdf(test_dir):\n",
    "    cached = os.path.join(test_dir, 'analysis', 'pandas', 'cdf.gz')\n",
    "    if os.path.exists(cached):\n",
    "        return pd.read_pickle(cached)\n",
    "    \n",
    "    files = notebook_helper.find_files(test_dir, 'tracestat-cdf.txt')\n",
    "    if len(files) == 0:\n",
    "        raise ValueError('test dir {test_dir} does not contain tracestat-cdf.txt - try running:\\n./analyze.py extract {test_dir}/test-output.tgz'.format(test_dir=test_dir))\n",
    "    return notebook_helper.cdf_to_pandas(files[0])\n",
    "\n",
    "\n",
    "def collect_inputs():\n",
    "    test_runs = []\n",
    "    for box in choosers.children:\n",
    "        legend = box.children[0].value\n",
    "        test_dir = box.children[1].selected_path\n",
    "        if test_dir is None:\n",
    "            continue\n",
    "        if legend == '':\n",
    "            legend = os.path.basename(test_dir)\n",
    "        cdf = load_cdf(test_dir)\n",
    "        test_runs.append({'legend': legend, 'test_dir': test_dir, 'cdf': cdf})\n",
    "    return test_runs\n",
    "\n",
    "\n",
    "def plot_cdfs(test_runs):\n",
    "    if len(test_runs) == 0:\n",
    "        print('no test runs selected')\n",
    "        return\n",
    "    fig = plt.figure(figsize=(11,6))\n",
    "    fig.suptitle(\"Latency CDF\")\n",
    "    plt.ylabel('messages')\n",
    "    plt.xlabel('ms to fully propagate')\n",
    "    for r in test_runs:\n",
    "        plt.plot('delay_ms', 'count', data=r['cdf'], label=r['legend'])\n",
    "    plt.legend()\n",
    "    return fig\n",
    "\n",
    "\n",
    "def new_chooser():\n",
    "    fc = FileChooser(BASE_DIR)\n",
    "    fc.use_dir_icons = True\n",
    "    name_field = widgets.Text(description='Legend Key')\n",
    "    return widgets.HBox([name_field, fc])\n",
    "\n",
    "choosers = widgets.VBox([new_chooser(), new_chooser()])\n",
    "\n",
    "def add_chooser(btn):\n",
    "    choosers.children = tuple(list(choosers.children) + [new_chooser()])\n",
    "\n",
    "add_button = widgets.Button(description=\"Add another test run\")\n",
    "add_button.on_click(add_chooser)\n",
    "\n",
    "output_dir_chooser = FileChooser(BASE_DIR)\n",
    "output_dir_chooser.default_filename = 'merged-cdf-figures-' + time.strftime(\"%Y%m%d-%H%M%S\")\n",
    "\n",
    "selection_ui = widgets.VBox([\n",
    "    widgets.Label(\"Use the Select buttons to choose test output directories.\"),\n",
    "    widgets.Label(\"Set Legend Key to a friendly name to display in the legend for each result.\"),\n",
    "    choosers,\n",
    "    add_button,\n",
    "    widgets.Label(\"Select the directory to save figure images (will be created if needed):\"),\n",
    "    output_dir_chooser,\n",
    "])\n"
   ]
  },
  {
   "cell_type": "markdown",
   "metadata": {},
   "source": [
    "### Select test output directories"
   ]
  },
  {
   "cell_type": "code",
   "execution_count": null,
   "metadata": {},
   "outputs": [],
   "source": [
    "display(selection_ui)"
   ]
  },
  {
   "cell_type": "markdown",
   "metadata": {},
   "source": [
    "### Once everything is selected above, run the cell below:"
   ]
  },
  {
   "cell_type": "code",
   "execution_count": null,
   "metadata": {},
   "outputs": [],
   "source": [
    "fig = plot_cdfs(collect_inputs())\n",
    "\n",
    "if fig is not None:\n",
    "    if output_dir_chooser.selected_path is None:\n",
    "        print('not saving figure images, no output dir selected')\n",
    "    else:\n",
    "        out_dir = os.path.join(output_dir_chooser.selected_path, output_dir_chooser.selected_filename)\n",
    "        save_fig = notebook_helper.save_fig_fn(out_dir)\n",
    "        save_fig(fig, 'cdf-comparison')"
   ]
  },
  {
   "cell_type": "code",
   "execution_count": null,
   "metadata": {},
   "outputs": [],
   "source": []
  }
 ],
 "metadata": {
  "kernelspec": {
   "display_name": "Python 3",
   "language": "python",
   "name": "python3"
  },
  "language_info": {
   "codemirror_mode": {
    "name": "ipython",
    "version": 3
   },
   "file_extension": ".py",
   "mimetype": "text/x-python",
   "name": "python",
   "nbconvert_exporter": "python",
   "pygments_lexer": "ipython3",
   "version": "3.7.7"
  }
 },
 "nbformat": 4,
 "nbformat_minor": 4
}
